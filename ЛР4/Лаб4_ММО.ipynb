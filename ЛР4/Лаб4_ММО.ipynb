{
  "nbformat": 4,
  "nbformat_minor": 0,
  "metadata": {
    "colab": {
      "provenance": []
    },
    "kernelspec": {
      "name": "python3",
      "display_name": "Python 3"
    },
    "language_info": {
      "name": "python"
    }
  },
  "cells": [
    {
      "cell_type": "code",
      "execution_count": 3,
      "metadata": {
        "colab": {
          "base_uri": "https://localhost:8080/"
        },
        "id": "oYg-cg2Vv1ho",
        "outputId": "5cd92c8a-6056-4d93-b20b-77904b25669a"
      },
      "outputs": [
        {
          "output_type": "stream",
          "name": "stdout",
          "text": [
            "Looking in indexes: https://pypi.org/simple, https://us-python.pkg.dev/colab-wheels/public/simple/\n",
            "Collecting gymnasium\n",
            "  Downloading gymnasium-0.28.1-py3-none-any.whl (925 kB)\n",
            "\u001b[2K     \u001b[90m━━━━━━━━━━━━━━━━━━━━━━━━━━━━━━━━━━━━━━\u001b[0m \u001b[32m925.5/925.5 kB\u001b[0m \u001b[31m13.5 MB/s\u001b[0m eta \u001b[36m0:00:00\u001b[0m\n",
            "\u001b[?25hRequirement already satisfied: numpy>=1.21.0 in /usr/local/lib/python3.10/dist-packages (from gymnasium) (1.22.4)\n",
            "Collecting jax-jumpy>=1.0.0 (from gymnasium)\n",
            "  Downloading jax_jumpy-1.0.0-py3-none-any.whl (20 kB)\n",
            "Requirement already satisfied: cloudpickle>=1.2.0 in /usr/local/lib/python3.10/dist-packages (from gymnasium) (2.2.1)\n",
            "Requirement already satisfied: typing-extensions>=4.3.0 in /usr/local/lib/python3.10/dist-packages (from gymnasium) (4.5.0)\n",
            "Collecting farama-notifications>=0.0.1 (from gymnasium)\n",
            "  Downloading Farama_Notifications-0.0.4-py3-none-any.whl (2.5 kB)\n",
            "Installing collected packages: farama-notifications, jax-jumpy, gymnasium\n",
            "Successfully installed farama-notifications-0.0.4 gymnasium-0.28.1 jax-jumpy-1.0.0\n"
          ]
        }
      ],
      "source": [
        "! pip install gymnasium\n",
        "import gymnasium as gym\n",
        "import numpy as np\n",
        "from pprint import pprint"
      ]
    },
    {
      "cell_type": "code",
      "source": [
        "class PolicyIterationAgent:\n",
        "    '''\n",
        "    Класс, эмулирующий работу агента\n",
        "    '''\n",
        "    def __init__(self, env):\n",
        "        self.env = env\n",
        "        # Пространство состояний\n",
        "        self.observation_dim = 500\n",
        "        # Массив действий в соответствии с документацией\n",
        "        # https://gymnasium.farama.org/environments/toy_text/taxi/\n",
        "        self.actions_variants = np.array([0,1,2,3,4,5])\n",
        "        # 0: Move south (down)\n",
        "        # 1: Move north (up)\n",
        "        # 2: Move east (right)\n",
        "        # 3: Move west (left)\n",
        "        # 4: Pickup passenger\n",
        "        # 5: Drop off passenger\n",
        "        # Задание стратегии (политики)\n",
        "        # Карта 5х5 и 6 возможных действия\n",
        "        self.policy_probs = np.full((self.observation_dim, len(self.actions_variants)), 0.25)\n",
        "        # Начальные значения для v(s)\n",
        "        self.state_values = np.zeros(shape=(self.observation_dim))\n",
        "        # Начальные значения параметров\n",
        "        self.maxNumberOfIterations = 1000\n",
        "        self.theta=1e-6\n",
        "        self.gamma=0.99\n",
        "\n",
        "    def print_policy(self):\n",
        "        '''\n",
        "        Вывод матриц стратегии\n",
        "        '''\n",
        "        print('Стратегия:')\n",
        "        pprint(self.policy_probs)\n",
        "\n",
        "    def policy_evaluation(self):\n",
        "        '''\n",
        "        Оценивание стратегии\n",
        "        '''\n",
        "        # Предыдущее значение функции ценности\n",
        "        valueFunctionVector = self.state_values\n",
        "        for iterations in range(self.maxNumberOfIterations):\n",
        "            # Новое значение функции ценности\n",
        "            valueFunctionVectorNextIteration=np.zeros(shape=(self.observation_dim))\n",
        "            # Цикл по состояниям\n",
        "            for state in range(self.observation_dim):\n",
        "                # Вероятности действий\n",
        "                action_probabilities = self.policy_probs[state]\n",
        "                # Цикл по действиям\n",
        "                outerSum=0\n",
        "                for action, prob in enumerate(action_probabilities):\n",
        "                    innerSum=0\n",
        "                    # Цикл по вероятностям действий\n",
        "                    for probability, next_state, reward, isTerminalState in self.env.P[state][action]:\n",
        "                        innerSum=innerSum+probability*(reward+self.gamma*self.state_values[next_state])\n",
        "                    outerSum=outerSum+self.policy_probs[state][action]*innerSum\n",
        "                valueFunctionVectorNextIteration[state]=outerSum\n",
        "            if(np.max(np.abs(valueFunctionVectorNextIteration-valueFunctionVector))<self.theta):\n",
        "                # Проверка сходимости алгоритма\n",
        "                valueFunctionVector=valueFunctionVectorNextIteration\n",
        "                break\n",
        "            valueFunctionVector=valueFunctionVectorNextIteration\n",
        "        return valueFunctionVector\n",
        "\n",
        "\n",
        "    def policy_improvement(self):\n",
        "        '''\n",
        "        Улучшение стратегии\n",
        "        '''\n",
        "        qvaluesMatrix=np.zeros((self.observation_dim, len(self.actions_variants)))\n",
        "        improvedPolicy=np.zeros((self.observation_dim, len(self.actions_variants)))\n",
        "        # Цикл по состояниям\n",
        "        for state in range(self.observation_dim):\n",
        "            for action in range(len(self.actions_variants)):\n",
        "                for probability, next_state, reward, isTerminalState in self.env.P[state][action]:\n",
        "                    qvaluesMatrix[state,action]=qvaluesMatrix[state,action]+probability*(reward+self.gamma*self.state_values[next_state])\n",
        "\n",
        "            # Находим лучшие индексы\n",
        "            bestActionIndex=np.where(qvaluesMatrix[state,:]==np.max(qvaluesMatrix[state,:]))\n",
        "            # Обновление стратегии\n",
        "            improvedPolicy[state,bestActionIndex]=1/np.size(bestActionIndex)\n",
        "        return improvedPolicy\n",
        "\n",
        "\n",
        "    def policy_iteration(self, cnt):\n",
        "        '''\n",
        "        Основная реализация алгоритма\n",
        "        '''\n",
        "        policy_stable = False\n",
        "        for i in range(1, cnt+1):\n",
        "            self.state_values = self.policy_evaluation()\n",
        "            self.policy_probs = self.policy_improvement()\n",
        "        print(f'{i} шагов.')"
      ],
      "metadata": {
        "id": "-Cbop2JvwUD3"
      },
      "execution_count": 4,
      "outputs": []
    },
    {
      "cell_type": "code",
      "source": [
        "def play_agent(agent):\n",
        "    env2 = gym.make('Taxi-v3', render_mode='human')\n",
        "    state = env2.reset()[0]\n",
        "    done = False\n",
        "    while not done:\n",
        "        p = agent.policy_probs[state]\n",
        "        if isinstance(p, np.ndarray):\n",
        "            action = np.random.choice(len(agent.actions_variants), p=p)\n",
        "        else:\n",
        "            action = p\n",
        "        next_state, reward, terminated, truncated, _ = env2.step(action)\n",
        "        env2.render()\n",
        "        state = next_state\n",
        "        if terminated or truncated:\n",
        "            done = True\n"
      ],
      "metadata": {
        "id": "25eO-T6twckB"
      },
      "execution_count": 5,
      "outputs": []
    },
    {
      "cell_type": "code",
      "source": [
        "# Создание среды\n",
        "env = gym.make('Taxi-v3')\n",
        "env.reset()\n",
        "# Обучение агента\n",
        "agent = PolicyIterationAgent(env)\n",
        "agent.policy_iteration(1000)\n",
        "agent.print_policy()"
      ],
      "metadata": {
        "colab": {
          "base_uri": "https://localhost:8080/"
        },
        "id": "HYbsXYLcwe9W",
        "outputId": "f16b988e-abcb-4270-badf-c0718cc3ac67"
      },
      "execution_count": 8,
      "outputs": [
        {
          "output_type": "stream",
          "name": "stdout",
          "text": [
            "1000 шагов.\n",
            "Стратегия:\n",
            "array([[0. , 0. , 0. , 0. , 1. , 0. ],\n",
            "       [0. , 0. , 0. , 0. , 1. , 0. ],\n",
            "       [0. , 0. , 0. , 0. , 1. , 0. ],\n",
            "       ...,\n",
            "       [0. , 1. , 0. , 0. , 0. , 0. ],\n",
            "       [0. , 0.5, 0. , 0.5, 0. , 0. ],\n",
            "       [0. , 0. , 0. , 1. , 0. , 0. ]])\n"
          ]
        }
      ]
    },
    {
      "cell_type": "code",
      "source": [
        "!pip install pygame \n",
        "\n",
        "import os\n",
        "os.environ['SDL_VIDEODRIVER']='dummy'\n",
        "import pygame\n",
        "pygame.display.set_mode((640,480))\n",
        "# Проигрывание сцены для обученного агента\n",
        "play_agent(agent)"
      ],
      "metadata": {
        "colab": {
          "base_uri": "https://localhost:8080/"
        },
        "id": "hzVJ0k5OxYPe",
        "outputId": "eeb8d6f0-62fc-4f92-d2f6-22c877a390c2"
      },
      "execution_count": 9,
      "outputs": [
        {
          "output_type": "stream",
          "name": "stdout",
          "text": [
            "Looking in indexes: https://pypi.org/simple, https://us-python.pkg.dev/colab-wheels/public/simple/\n",
            "Requirement already satisfied: pygame in /usr/local/lib/python3.10/dist-packages (2.3.0)\n"
          ]
        }
      ]
    },
    {
      "cell_type": "code",
      "source": [
        "play_agent(agent)"
      ],
      "metadata": {
        "id": "K47TN0S8x3Q_"
      },
      "execution_count": 10,
      "outputs": []
    }
  ]
}