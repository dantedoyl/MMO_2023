{
  "nbformat": 4,
  "nbformat_minor": 0,
  "metadata": {
    "colab": {
      "provenance": []
    },
    "kernelspec": {
      "name": "python3",
      "display_name": "Python 3"
    },
    "language_info": {
      "name": "python"
    }
  },
  "cells": [
    {
      "cell_type": "code",
      "execution_count": 1,
      "metadata": {
        "colab": {
          "base_uri": "https://localhost:8080/"
        },
        "id": "I59ph_yZJK1u",
        "outputId": "6d78d6e4-1408-42ac-fd57-491a9ef1e5e1"
      },
      "outputs": [
        {
          "output_type": "stream",
          "name": "stdout",
          "text": [
            "Looking in indexes: https://pypi.org/simple, https://us-python.pkg.dev/colab-wheels/public/simple/\n",
            "Collecting gymnasium\n",
            "  Downloading gymnasium-0.28.1-py3-none-any.whl (925 kB)\n",
            "\u001b[2K     \u001b[90m━━━━━━━━━━━━━━━━━━━━━━━━━━━━━━━━━━━━━━\u001b[0m \u001b[32m925.5/925.5 kB\u001b[0m \u001b[31m19.6 MB/s\u001b[0m eta \u001b[36m0:00:00\u001b[0m\n",
            "\u001b[?25hRequirement already satisfied: numpy>=1.21.0 in /usr/local/lib/python3.10/dist-packages (from gymnasium) (1.22.4)\n",
            "Collecting jax-jumpy>=1.0.0 (from gymnasium)\n",
            "  Downloading jax_jumpy-1.0.0-py3-none-any.whl (20 kB)\n",
            "Requirement already satisfied: cloudpickle>=1.2.0 in /usr/local/lib/python3.10/dist-packages (from gymnasium) (2.2.1)\n",
            "Requirement already satisfied: typing-extensions>=4.3.0 in /usr/local/lib/python3.10/dist-packages (from gymnasium) (4.5.0)\n",
            "Collecting farama-notifications>=0.0.1 (from gymnasium)\n",
            "  Downloading Farama_Notifications-0.0.4-py3-none-any.whl (2.5 kB)\n",
            "Installing collected packages: farama-notifications, jax-jumpy, gymnasium\n",
            "Successfully installed farama-notifications-0.0.4 gymnasium-0.28.1 jax-jumpy-1.0.0\n"
          ]
        }
      ],
      "source": [
        "! pip install gymnasium\n",
        "import gymnasium as gym\n",
        "import numpy as np\n",
        "from itertools import count\n",
        "from collections import namedtuple\n",
        "\n",
        "import torch\n",
        "import torch.nn as nn\n",
        "import torch.nn.functional as F\n",
        "import torch.optim as optim\n",
        "from torch.distributions import Categorical"
      ]
    },
    {
      "cell_type": "code",
      "source": [
        "!pip install pygame \n",
        "\n",
        "import os\n",
        "os.environ['SDL_VIDEODRIVER']='dummy'\n",
        "import pygame\n",
        "pygame.display.set_mode((640,480))"
      ],
      "metadata": {
        "colab": {
          "base_uri": "https://localhost:8080/"
        },
        "id": "XQrDRiB_Nykg",
        "outputId": "094ee18c-550b-48f2-8da7-6eb1a64fd6de"
      },
      "execution_count": 2,
      "outputs": [
        {
          "output_type": "stream",
          "name": "stdout",
          "text": [
            "Looking in indexes: https://pypi.org/simple, https://us-python.pkg.dev/colab-wheels/public/simple/\n",
            "Requirement already satisfied: pygame in /usr/local/lib/python3.10/dist-packages (2.3.0)\n"
          ]
        },
        {
          "output_type": "execute_result",
          "data": {
            "text/plain": [
              "<Surface(640x480x32 SW)>"
            ]
          },
          "metadata": {},
          "execution_count": 2
        }
      ]
    },
    {
      "cell_type": "code",
      "source": [
        "# Cart Pole\n",
        "CONST_ENV_NAME = 'Acrobot-v1'\n",
        "env = gym.make(CONST_ENV_NAME)\n",
        "GAMMA = 0.99\n",
        "SavedAction = namedtuple('SavedAction', ['log_prob', 'value'])"
      ],
      "metadata": {
        "id": "ywnRS96lN3pu"
      },
      "execution_count": 3,
      "outputs": []
    },
    {
      "cell_type": "code",
      "source": [
        "class Policy(nn.Module):\n",
        "  def __init__(self):\n",
        "    super(Policy, self).__init__()\n",
        "    self.affine1 = nn.Linear(6, 128)\n",
        "\n",
        "    # actor's layer\n",
        "    self.action_head = nn.Linear(128, 3)\n",
        "\n",
        "    # critic's layer\n",
        "    self.value_head = nn.Linear(128, 1)\n",
        "\n",
        "    # action & reward buffer\n",
        "    self.saved_actions = []\n",
        "    self.rewards = []\n",
        "\n",
        "  def forward(self, x):\n",
        "    x = F.relu(self.affine1(x))\n",
        "\n",
        "    # actor: choses action to take from state s_t\n",
        "    # by returning probability of each action\n",
        "    action_prob = F.softmax(self.action_head(x), dim=-1)\n",
        "\n",
        "    # critic: evaluates being in the state s_t\n",
        "    state_values = self.value_head(x)\n",
        "\n",
        "    # return values for both actor and critic as a tuple of 2 values:\n",
        "    # 1. a list with the probability of each action over the action space\n",
        "    # 2. the value from state s_t\n",
        "    return action_prob, state_values\n"
      ],
      "metadata": {
        "id": "a50BgXcrN8km"
      },
      "execution_count": 4,
      "outputs": []
    },
    {
      "cell_type": "code",
      "source": [
        "model = Policy()\n",
        "optimizer = optim.AdamW(model.parameters(), lr=1e-3)\n",
        "eps = np.finfo(np.float32).eps.item()"
      ],
      "metadata": {
        "id": "hdEha08aN9K4"
      },
      "execution_count": 5,
      "outputs": []
    },
    {
      "cell_type": "code",
      "source": [
        "def select_action(state):\n",
        "  state = torch.from_numpy(state).float()\n",
        "  probs, state_value = model(state)\n",
        "\n",
        "  # create a categorical distribution over the list of probabilities of actions\n",
        "  m = Categorical(probs)\n",
        "\n",
        "  # and sample an action using the distribution\n",
        "  action = m.sample()\n",
        "\n",
        "  # save to action buffer\n",
        "  model.saved_actions.append(SavedAction(m.log_prob(action), state_value))\n",
        "\n",
        "  # the action to take (left or right)\n",
        "  return action.item()\n"
      ],
      "metadata": {
        "id": "Fg6w6QdfN_w5"
      },
      "execution_count": 6,
      "outputs": []
    },
    {
      "cell_type": "code",
      "source": [
        "def finish_episode():\n",
        "  \"\"\"\n",
        "  Training code. Calculates actor and critic loss and performs backprop.\n",
        "  \"\"\"\n",
        "  R = 0\n",
        "  saved_actions = model.saved_actions\n",
        "  policy_losses = [] # list to save actor (policy) loss\n",
        "  value_losses = [] # list to save critic (value) loss\n",
        "  returns = [] # list to save the true values\n",
        "\n",
        "  # calculate the true value using rewards returned from the environment\n",
        "  for r in model.rewards[::-1]:\n",
        "    # calculate the discounted value\n",
        "    R = r + GAMMA * R\n",
        "    returns.insert(0, R)\n",
        "\n",
        "  returns = torch.tensor(returns)\n",
        "  returns = (returns - returns.mean()) / (returns.std() + eps)\n",
        "\n",
        "  for (log_prob, value), R in zip(saved_actions, returns):\n",
        "    advantage = R - value.item()\n",
        "\n",
        "    # calculate actor (policy) loss\n",
        "    policy_losses.append(-log_prob * advantage)\n",
        "\n",
        "    # calculate critic (value) loss using L1 smooth loss\n",
        "    value_losses.append(F.smooth_l1_loss(value, torch.tensor([R])))\n",
        "\n",
        "  # reset gradients\n",
        "  optimizer.zero_grad()\n",
        "\n",
        "  # sum up all the values of policy_losses and value_losses\n",
        "  loss = torch.stack(policy_losses).sum() + torch.stack(value_losses).sum()\n",
        "\n",
        "  # perform backprop\n",
        "  loss.backward()\n",
        "  optimizer.step()\n",
        "\n",
        "  # reset rewards and action buffer\n",
        "  del model.rewards[:]\n",
        "  del model.saved_actions[:]\n"
      ],
      "metadata": {
        "id": "Qdqsl_6qOCLo"
      },
      "execution_count": 7,
      "outputs": []
    },
    {
      "cell_type": "code",
      "source": [
        "running_reward = -500\n",
        "\n",
        "# run infinitely many episodes\n",
        "for i_episode in count(1):\n",
        "  #print(running_reward)\n",
        "  # reset environment and episode reward\n",
        "  state, _ = env.reset()\n",
        "  ep_reward = 0\n",
        "  # for each episode, only run 9999 steps so that we don't\n",
        "  # infinite loop while learning\n",
        "  for t in range(1, 99999):\n",
        "    # select action from policy\n",
        "    action = select_action(state)\n",
        "    # take the action\n",
        "    state, reward, done, truncated , _ = env.step(action)\n",
        "    model.rewards.append(reward)\n",
        "    ep_reward += reward\n",
        "    if done or truncated:\n",
        "      break\n",
        "  print(ep_reward)\n",
        "  # update cumulative reward\n",
        "  running_reward = 0.05 * ep_reward + (1 - 0.05) * running_reward\n",
        "  # perform backprop\n",
        "  finish_episode()\n",
        "  # log results\n",
        "  if i_episode % 10 == 0:\n",
        "    print(f\"Episode {i_episode}\\tLast reward: {ep_reward:.2f}\\tAverage reward: {running_reward:.2f}\")\n",
        "  # check if we have \"solved\" the cart pole problem\n",
        "  if running_reward > env.spec.reward_threshold*2:\n",
        "    print(f\"Solved! Running reward is now {running_reward} and the last episode runs to {t} time steps!\")\n",
        "    break\n",
        "env2 = gym.make(CONST_ENV_NAME,render_mode='human')\n",
        "# reset environment and episode reward\n",
        "state, _ = env2.reset()\n",
        "ep_reward = 0\n",
        "# for each episode, only run 9999 steps so that we don't\n",
        "# infinite loop while learning\n",
        "for t in range(1, 10000):\n",
        "  # select action from policy\n",
        "  action = select_action(state)\n",
        "  # take the action\n",
        "  state, reward, done, _, _ = env2.step(action)\n",
        "  model.rewards.append(reward)\n",
        "  ep_reward += reward\n",
        "  if done:\n",
        "    break"
      ],
      "metadata": {
        "colab": {
          "base_uri": "https://localhost:8080/"
        },
        "id": "JSW4b3yqOII8",
        "outputId": "2894de10-20d8-4255-a7d8-9f11abe0d272"
      },
      "execution_count": 8,
      "outputs": [
        {
          "output_type": "stream",
          "name": "stdout",
          "text": [
            "-500.0\n",
            "-500.0\n",
            "-500.0\n",
            "-500.0\n",
            "-500.0\n",
            "-500.0\n",
            "-500.0\n",
            "-500.0\n",
            "-461.0\n",
            "-500.0\n",
            "Episode 10\tLast reward: -500.00\tAverage reward: -498.15\n",
            "-500.0\n",
            "-500.0\n",
            "-500.0\n",
            "-500.0\n",
            "-500.0\n",
            "-500.0\n",
            "-500.0\n",
            "-479.0\n",
            "-500.0\n",
            "-500.0\n",
            "Episode 20\tLast reward: -500.00\tAverage reward: -497.94\n",
            "-340.0\n",
            "-500.0\n",
            "-500.0\n",
            "-425.0\n",
            "-400.0\n",
            "-448.0\n",
            "-500.0\n",
            "-500.0\n",
            "-500.0\n",
            "-500.0\n",
            "Episode 30\tLast reward: -500.00\tAverage reward: -484.98\n",
            "-478.0\n",
            "-471.0\n",
            "-499.0\n",
            "-500.0\n",
            "-408.0\n",
            "-472.0\n",
            "-427.0\n",
            "-483.0\n",
            "-500.0\n",
            "-500.0\n",
            "Episode 40\tLast reward: -500.00\tAverage reward: -480.72\n",
            "-500.0\n",
            "-361.0\n",
            "-500.0\n",
            "-500.0\n",
            "-500.0\n",
            "-333.0\n",
            "-340.0\n",
            "-299.0\n",
            "-342.0\n",
            "-377.0\n",
            "Episode 50\tLast reward: -377.00\tAverage reward: -447.46\n",
            "-347.0\n",
            "-482.0\n",
            "-344.0\n",
            "-259.0\n",
            "-311.0\n",
            "-304.0\n",
            "-500.0\n",
            "-326.0\n",
            "-263.0\n",
            "-295.0\n",
            "Episode 60\tLast reward: -295.00\tAverage reward: -404.17\n",
            "-184.0\n",
            "-201.0\n",
            "-328.0\n",
            "-300.0\n",
            "-199.0\n",
            "-410.0\n",
            "-288.0\n",
            "-368.0\n",
            "-339.0\n",
            "-300.0\n",
            "Episode 70\tLast reward: -300.00\tAverage reward: -361.39\n",
            "-292.0\n",
            "-274.0\n",
            "-332.0\n",
            "-312.0\n",
            "-233.0\n",
            "-222.0\n",
            "-363.0\n",
            "-238.0\n",
            "-285.0\n",
            "-252.0\n",
            "Episode 80\tLast reward: -252.00\tAverage reward: -328.22\n",
            "-226.0\n",
            "-259.0\n",
            "-354.0\n",
            "-217.0\n",
            "-500.0\n",
            "-197.0\n",
            "-181.0\n",
            "-251.0\n",
            "-198.0\n",
            "-220.0\n",
            "Episode 90\tLast reward: -220.00\tAverage reward: -299.42\n",
            "-244.0\n",
            "-195.0\n",
            "-233.0\n",
            "-165.0\n",
            "-191.0\n",
            "-170.0\n",
            "-202.0\n",
            "-229.0\n",
            "-218.0\n",
            "-187.0\n",
            "Episode 100\tLast reward: -187.00\tAverage reward: -260.65\n",
            "-166.0\n",
            "-153.0\n",
            "-203.0\n",
            "-120.0\n",
            "-218.0\n",
            "-176.0\n",
            "-249.0\n",
            "-171.0\n",
            "-255.0\n",
            "-131.0\n",
            "Episode 110\tLast reward: -131.00\tAverage reward: -230.52\n",
            "-226.0\n",
            "-222.0\n",
            "-176.0\n",
            "-182.0\n",
            "-137.0\n",
            "-158.0\n",
            "-197.0\n",
            "-217.0\n",
            "-185.0\n",
            "-154.0\n",
            "Episode 120\tLast reward: -154.00\tAverage reward: -211.80\n",
            "-183.0\n",
            "-173.0\n",
            "-153.0\n",
            "-153.0\n",
            "-116.0\n",
            "Solved! Running reward is now -198.72727598097 and the last episode runs to 117 time steps!\n"
          ]
        }
      ]
    }
  ]
}